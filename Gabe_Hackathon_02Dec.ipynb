   ]
  },
  {
   "cell_type": "markdown",
   "id": "997462e2",
   "metadata": {},
   "source": [
    " <a id=\"one\"></a>\n",
    "## 1. Importing Packages\n",
    "<a href=#cont>Back to Table of Contents</a>\n",
    "\n",
    "---\n",
    "    \n",
    "| ⚡ Description: Importing Packages ⚡ |\n",
    "| :--------------------------- |\n",
    "| In this section you are required to import, and briefly discuss, the libraries that will be used throughout your analysis and modelling. |\n",
    "\n",
    "---"
   ]
  },
  {
   "cell_type": "code",
   "execution_count": 1,
   "id": "475dbe93",
   "metadata": {
    "ExecuteTime": {
     "end_time": "2021-06-23T10:30:53.800892Z",
     "start_time": "2021-06-23T10:30:50.215449Z"
    }
   },
   "outputs": [],
   "source": [
    "# Importing modules for data science and visualization\n",
    "import pandas as pd\n",
    "import numpy as np\n",
    "import seaborn as sns\n",
    "import matplotlib.pyplot as plt\n",
    "import matplotlib as mpl\n",
    "mpl.rcParams['figure.dpi'] = 180 # Quality of all figures in notebook\n",
    "# NLP Libraries\n",
    "import re\n",
    "import string\n",
    "from nltk.corpus import stopwords\n",
    "from nltk.tokenize import word_tokenize\n",
    "from nltk.tokenize import RegexpTokenizer\n",
    "from nltk.stem import PorterStemmer\n",
    "from nltk.stem import WordNetLemmatizer\n",
    "from nltk.stem import SnowballStemmer\n",
    "from os import path\n",
    "from PIL import Image\n",
    "#from wordcloud import WordCloud, STOPWORDS, ImageColorGenerator\n",
    "# ML Libraries\n",
    "from sklearn.model_selection import train_test_split\n",
    "from sklearn.feature_extraction.text import CountVectorizer\n",
    "from sklearn.feature_extraction.text import TfidfVectorizer\n",
    "from nltk import pos_tag\n",
    "#ignore warnings\n",
    "import warnings\n",
    "warnings.filterwarnings('ignore')"
   ]
  },
  {
   "cell_type": "markdown",
   "id": "f22a6718",
   "metadata": {},
   "source": [
    "<a id=\"two\"></a>\n",
    "## 2. Loading the Data\n",
    "<a class=\"anchor\" id=\"1.1\"></a>\n",
    "<a href=#cont>Back to Table of Contents</a>\n",
    "\n",
    "---\n",
    "    \n",
    "| ⚡ Description: Loading the data ⚡ |\n",
    "| :--------------------------- |\n",
    "| In this section you are required to load the data from the `df_train` file into a DataFrame. |\n",
    "\n",
    "---"
   ]
  },
  {
   "cell_type": "code",
   "execution_count": 32,
   "id": "fbbb6c18",
   "metadata": {
    "ExecuteTime": {
     "end_time": "2021-06-28T08:49:35.311495Z",
     "start_time": "2021-06-28T08:49:35.295494Z"
    }
   },
   "outputs": [],
   "source": [
    "df_train = pd.read_csv('https://github.com/Gabe-Maja/SA-Language-Identification_Classification-Hackathon/blob/main/train_set.csv?raw=true')\n",
    "\n",
    "df_test = pd.read_csv('https://github.com/Gabe-Maja/SA-Language-Identification_Classification-Hackathon/blob/main/test_set.csv?raw=true')\n",
    "\n"
   ]
  },
  {
   "cell_type": "markdown",
   "id": "81132ab3",
   "metadata": {},
   "source": [
    "<a id=\"three\"></a>\n",
    "## 3.1 Exploratory Data Analysis (EDA)\n",
    "<a class=\"anchor\" id=\"1.1\"></a>\n",
    "<a href=#cont>Back to Table of Contents</a>\n",
    "\n",
    "---\n",
    "    \n",
    "| ⚡ Description: Exploratory data analysis ⚡ |\n",
    "| :--------------------------- |\n",
    "| In this section, you are required to perform an in-depth analysis of all the variables in the DataFrame. |\n",
    "\n",
    "---\n"
   ]
  },
  {
   "cell_type": "code",
   "execution_count": 33,
   "id": "e805134e",
   "metadata": {
    "ExecuteTime": {
     "end_time": "2021-06-28T08:52:37.824204Z",
     "start_time": "2021-06-28T08:52:37.811206Z"
    }
   },
   "outputs": [
    {
     "data": {
      "text/html": [
       "<div>\n",
       "<style scoped>\n",
       "    .dataframe tbody tr th:only-of-type {\n",
       "        vertical-align: middle;\n",
       "    }\n",
       "\n",
       "    .dataframe tbody tr th {\n",
       "        vertical-align: top;\n",
       "    }\n",
       "\n",
       "    .dataframe thead th {\n",
       "        text-align: right;\n",
       "    }\n",
       "</style>\n",
       "<table border=\"1\" class=\"dataframe\">\n",
       "  <thead>\n",
       "    <tr style=\"text-align: right;\">\n",
       "      <th></th>\n",
       "      <th>lang_id</th>\n",
       "      <th>text</th>\n",
       "    </tr>\n",
       "  </thead>\n",
       "  <tbody>\n",
       "    <tr>\n",
       "      <th>0</th>\n",
       "      <td>xho</td>\n",
       "      <td>umgaqo-siseko wenza amalungiselelo kumaziko ax...</td>\n",
       "    </tr>\n",
       "    <tr>\n",
       "      <th>1</th>\n",
       "      <td>xho</td>\n",
       "      <td>i-dha iya kuba nobulumko bokubeka umsebenzi na...</td>\n",
       "    </tr>\n",
       "    <tr>\n",
       "      <th>2</th>\n",
       "      <td>eng</td>\n",
       "      <td>the province of kwazulu-natal department of tr...</td>\n",
       "    </tr>\n",
       "    <tr>\n",
       "      <th>3</th>\n",
       "      <td>nso</td>\n",
       "      <td>o netefatša gore o ba file dilo ka moka tše le...</td>\n",
       "    </tr>\n",
       "    <tr>\n",
       "      <th>4</th>\n",
       "      <td>ven</td>\n",
       "      <td>khomishini ya ndinganyiso ya mbeu yo ewa maana...</td>\n",
       "    </tr>\n",
       "    <tr>\n",
       "      <th>5</th>\n",
       "      <td>nso</td>\n",
       "      <td>dinyakišišo tše tša go dirwa gabedi ka ngwaga ...</td>\n",
       "    </tr>\n",
       "    <tr>\n",
       "      <th>6</th>\n",
       "      <td>tsn</td>\n",
       "      <td>kgetse nngwe le nngwe e e sa faposiwang mo tsh...</td>\n",
       "    </tr>\n",
       "    <tr>\n",
       "      <th>7</th>\n",
       "      <td>ven</td>\n",
       "      <td>mbadelo dze dza laelwa dzi do kwama mahatulele...</td>\n",
       "    </tr>\n",
       "    <tr>\n",
       "      <th>8</th>\n",
       "      <td>nso</td>\n",
       "      <td>maloko a dikhuduthamaga a ikarabela mongwe le ...</td>\n",
       "    </tr>\n",
       "    <tr>\n",
       "      <th>9</th>\n",
       "      <td>tsn</td>\n",
       "      <td>fa le dirisiwa lebone le tshwanetse go bontsha...</td>\n",
       "    </tr>\n",
       "    <tr>\n",
       "      <th>10</th>\n",
       "      <td>nbl</td>\n",
       "      <td>lapho inarha yangeqadi ingenwe ngokungasimthet...</td>\n",
       "    </tr>\n",
       "    <tr>\n",
       "      <th>11</th>\n",
       "      <td>ven</td>\n",
       "      <td>yo dovha hafhu ya khwaṱhisedza uri hu vhe na m...</td>\n",
       "    </tr>\n",
       "    <tr>\n",
       "      <th>12</th>\n",
       "      <td>zul</td>\n",
       "      <td>i-tip-offs anonymous wusizo locingo oluzimele ...</td>\n",
       "    </tr>\n",
       "    <tr>\n",
       "      <th>13</th>\n",
       "      <td>ssw</td>\n",
       "      <td>tekulima lokufaka ekhatsi yonkhe imisebenti ye...</td>\n",
       "    </tr>\n",
       "    <tr>\n",
       "      <th>14</th>\n",
       "      <td>zul</td>\n",
       "      <td>noma yiliphi ilungu lombutho wezokuvikela elin...</td>\n",
       "    </tr>\n",
       "    <tr>\n",
       "      <th>15</th>\n",
       "      <td>nso</td>\n",
       "      <td>c a fa tumelelo ya go hloma go aga goba go bea...</td>\n",
       "    </tr>\n",
       "    <tr>\n",
       "      <th>16</th>\n",
       "      <td>tso</td>\n",
       "      <td>migingiriko ya cbnrm hinkwayo yi katsa ku tumb...</td>\n",
       "    </tr>\n",
       "    <tr>\n",
       "      <th>17</th>\n",
       "      <td>zul</td>\n",
       "      <td>amalungu nabangabasebenzi banelungelo lokwenza...</td>\n",
       "    </tr>\n",
       "    <tr>\n",
       "      <th>18</th>\n",
       "      <td>sot</td>\n",
       "      <td>ka ho mengwa lefapheng la lona diprofeshenale ...</td>\n",
       "    </tr>\n",
       "    <tr>\n",
       "      <th>19</th>\n",
       "      <td>nbl</td>\n",
       "      <td>isitifikhethi somtjhado esingakarhunyezwa namk...</td>\n",
       "    </tr>\n",
       "  </tbody>\n",
       "</table>\n",
       "</div>"
      ],
      "text/plain": [
       "   lang_id                                               text\n",
       "0      xho  umgaqo-siseko wenza amalungiselelo kumaziko ax...\n",
       "1      xho  i-dha iya kuba nobulumko bokubeka umsebenzi na...\n",
       "2      eng  the province of kwazulu-natal department of tr...\n",
       "3      nso  o netefatša gore o ba file dilo ka moka tše le...\n",
       "4      ven  khomishini ya ndinganyiso ya mbeu yo ewa maana...\n",
       "5      nso  dinyakišišo tše tša go dirwa gabedi ka ngwaga ...\n",
       "6      tsn  kgetse nngwe le nngwe e e sa faposiwang mo tsh...\n",
       "7      ven  mbadelo dze dza laelwa dzi do kwama mahatulele...\n",
       "8      nso  maloko a dikhuduthamaga a ikarabela mongwe le ...\n",
       "9      tsn  fa le dirisiwa lebone le tshwanetse go bontsha...\n",
       "10     nbl  lapho inarha yangeqadi ingenwe ngokungasimthet...\n",
       "11     ven  yo dovha hafhu ya khwaṱhisedza uri hu vhe na m...\n",
       "12     zul  i-tip-offs anonymous wusizo locingo oluzimele ...\n",
       "13     ssw  tekulima lokufaka ekhatsi yonkhe imisebenti ye...\n",
       "14     zul  noma yiliphi ilungu lombutho wezokuvikela elin...\n",
       "15     nso  c a fa tumelelo ya go hloma go aga goba go bea...\n",
       "16     tso  migingiriko ya cbnrm hinkwayo yi katsa ku tumb...\n",
       "17     zul  amalungu nabangabasebenzi banelungelo lokwenza...\n",
       "18     sot  ka ho mengwa lefapheng la lona diprofeshenale ...\n",
       "19     nbl  isitifikhethi somtjhado esingakarhunyezwa namk..."
      ]
     },
     "execution_count": 33,
     "metadata": {},
     "output_type": "execute_result"
    }
   ],
   "source": [
    "df_train.head(20)"
   ]
  },
  {
   "cell_type": "code",
   "execution_count": 34,
   "id": "0543a9ef-4468-4db7-bfb4-8e98cb270b45",
   "metadata": {},
   "outputs": [
    {
     "data": {
      "text/html": [
       "<div>\n",
       "<style scoped>\n",
       "    .dataframe tbody tr th:only-of-type {\n",
       "        vertical-align: middle;\n",
       "    }\n",
       "\n",
       "    .dataframe tbody tr th {\n",
       "        vertical-align: top;\n",
       "    }\n",
       "\n",
       "    .dataframe thead th {\n",
       "        text-align: right;\n",
       "    }\n",
       "</style>\n",
       "<table border=\"1\" class=\"dataframe\">\n",
       "  <thead>\n",
       "    <tr style=\"text-align: right;\">\n",
       "      <th></th>\n",
       "      <th>index</th>\n",
       "      <th>text</th>\n",
       "    </tr>\n",
       "  </thead>\n",
       "  <tbody>\n",
       "    <tr>\n",
       "      <th>0</th>\n",
       "      <td>1</td>\n",
       "      <td>Mmasepala, fa maemo a a kgethegileng a letlele...</td>\n",
       "    </tr>\n",
       "    <tr>\n",
       "      <th>1</th>\n",
       "      <td>2</td>\n",
       "      <td>Uzakwaziswa ngokufaneleko nakungafuneka eminye...</td>\n",
       "    </tr>\n",
       "    <tr>\n",
       "      <th>2</th>\n",
       "      <td>3</td>\n",
       "      <td>Tshivhumbeo tshi fana na ngano dza vhathu.</td>\n",
       "    </tr>\n",
       "    <tr>\n",
       "      <th>3</th>\n",
       "      <td>4</td>\n",
       "      <td>Kube inja nelikati betingevakala kutsi titsini...</td>\n",
       "    </tr>\n",
       "    <tr>\n",
       "      <th>4</th>\n",
       "      <td>5</td>\n",
       "      <td>Winste op buitelandse valuta.</td>\n",
       "    </tr>\n",
       "    <tr>\n",
       "      <th>5</th>\n",
       "      <td>6</td>\n",
       "      <td>Ke feela dilense tše hlakilego, tša pono e tee...</td>\n",
       "    </tr>\n",
       "    <tr>\n",
       "      <th>6</th>\n",
       "      <td>7</td>\n",
       "      <td>&lt;fn&gt;(762010101403 AM) 1495 Final Gems Birthing...</td>\n",
       "    </tr>\n",
       "    <tr>\n",
       "      <th>7</th>\n",
       "      <td>8</td>\n",
       "      <td>Ntjhafatso ya konteraka ya mosebetsi: Etsa bon...</td>\n",
       "    </tr>\n",
       "    <tr>\n",
       "      <th>8</th>\n",
       "      <td>9</td>\n",
       "      <td>u-GEMS uhlinzeka ngezinzuzo zemithi yezifo ezi...</td>\n",
       "    </tr>\n",
       "    <tr>\n",
       "      <th>9</th>\n",
       "      <td>10</td>\n",
       "      <td>So, on occasion, are statistics misused.</td>\n",
       "    </tr>\n",
       "    <tr>\n",
       "      <th>10</th>\n",
       "      <td>11</td>\n",
       "      <td>Janewari la ngwaga ofe kapa, dikholego tša gag...</td>\n",
       "    </tr>\n",
       "    <tr>\n",
       "      <th>11</th>\n",
       "      <td>12</td>\n",
       "      <td>Ntirho wa mfumo : ku aka swikolo swo ringana n...</td>\n",
       "    </tr>\n",
       "    <tr>\n",
       "      <th>12</th>\n",
       "      <td>13</td>\n",
       "      <td>Kl.(3) e emetswe ke k. 13 ya Molaotheo Tlhabol...</td>\n",
       "    </tr>\n",
       "    <tr>\n",
       "      <th>13</th>\n",
       "      <td>14</td>\n",
       "      <td>Tshabo le ho se sireletsehe hoo ho ile ha baka...</td>\n",
       "    </tr>\n",
       "    <tr>\n",
       "      <th>14</th>\n",
       "      <td>15</td>\n",
       "      <td>Loko u nga ri na ntiyiso wa leswaku xiphiqo xa...</td>\n",
       "    </tr>\n",
       "    <tr>\n",
       "      <th>15</th>\n",
       "      <td>16</td>\n",
       "      <td>lokuthabatha inxaxheba kwiintshukumo neeprogra...</td>\n",
       "    </tr>\n",
       "    <tr>\n",
       "      <th>16</th>\n",
       "      <td>17</td>\n",
       "      <td>Icandelwana (2) lithathelwe indawo licandelo 9...</td>\n",
       "    </tr>\n",
       "    <tr>\n",
       "      <th>17</th>\n",
       "      <td>18</td>\n",
       "      <td>LaMatsebula Yebo Mtilankhatsa, uva kahle. Wona...</td>\n",
       "    </tr>\n",
       "    <tr>\n",
       "      <th>18</th>\n",
       "      <td>19</td>\n",
       "      <td>Enige persoon wat 'n bepaling van hierdie vero...</td>\n",
       "    </tr>\n",
       "    <tr>\n",
       "      <th>19</th>\n",
       "      <td>20</td>\n",
       "      <td>Minisi.a' zwi amba Minisi.</td>\n",
       "    </tr>\n",
       "  </tbody>\n",
       "</table>\n",
       "</div>"
      ],
      "text/plain": [
       "    index                                               text\n",
       "0       1  Mmasepala, fa maemo a a kgethegileng a letlele...\n",
       "1       2  Uzakwaziswa ngokufaneleko nakungafuneka eminye...\n",
       "2       3         Tshivhumbeo tshi fana na ngano dza vhathu.\n",
       "3       4  Kube inja nelikati betingevakala kutsi titsini...\n",
       "4       5                      Winste op buitelandse valuta.\n",
       "5       6  Ke feela dilense tše hlakilego, tša pono e tee...\n",
       "6       7  <fn>(762010101403 AM) 1495 Final Gems Birthing...\n",
       "7       8  Ntjhafatso ya konteraka ya mosebetsi: Etsa bon...\n",
       "8       9  u-GEMS uhlinzeka ngezinzuzo zemithi yezifo ezi...\n",
       "9      10           So, on occasion, are statistics misused.\n",
       "10     11  Janewari la ngwaga ofe kapa, dikholego tša gag...\n",
       "11     12  Ntirho wa mfumo : ku aka swikolo swo ringana n...\n",
       "12     13  Kl.(3) e emetswe ke k. 13 ya Molaotheo Tlhabol...\n",
       "13     14  Tshabo le ho se sireletsehe hoo ho ile ha baka...\n",
       "14     15  Loko u nga ri na ntiyiso wa leswaku xiphiqo xa...\n",
       "15     16  lokuthabatha inxaxheba kwiintshukumo neeprogra...\n",
       "16     17  Icandelwana (2) lithathelwe indawo licandelo 9...\n",
       "17     18  LaMatsebula Yebo Mtilankhatsa, uva kahle. Wona...\n",
       "18     19  Enige persoon wat 'n bepaling van hierdie vero...\n",
       "19     20                         Minisi.a' zwi amba Minisi."
      ]
     },
     "execution_count": 34,
     "metadata": {},
     "output_type": "execute_result"
    }
   ],
   "source": [
    "df_test.head(20)"
   ]
  },
  {
   "cell_type": "code",
   "execution_count": 5,
   "id": "3edc2877-9ad7-4f48-a9b2-c3fb57907ff6",
   "metadata": {},
   "outputs": [
    {
     "data": {
      "text/plain": [
       "(33000, 2)"
      ]
     },
     "execution_count": 5,
     "metadata": {},
     "output_type": "execute_result"
    }
   ],
   "source": [
    "df_train.shape"
   ]
  },
  {
   "cell_type": "code",
   "execution_count": 6,
   "id": "64cc48fa-79f5-4827-90d1-aa7ce310c90e",
   "metadata": {},
   "outputs": [
    {
     "data": {
      "text/plain": [
       "(5682, 2)"
      ]
     },
     "execution_count": 6,
     "metadata": {},
     "output_type": "execute_result"
    }
   ],
   "source": [
    "df_test.shape"
   ]
  },
  {
   "cell_type": "code",
   "execution_count": 7,
   "id": "6c4eaf13-8906-495c-8823-a2d363316c96",
   "metadata": {},
   "outputs": [
    {
     "name": "stdout",
     "output_type": "stream",
     "text": [
      "<class 'pandas.core.frame.DataFrame'>\n",
      "RangeIndex: 33000 entries, 0 to 32999\n",
      "Data columns (total 2 columns):\n",
      " #   Column   Non-Null Count  Dtype \n",
      "---  ------   --------------  ----- \n",
      " 0   lang_id  33000 non-null  object\n",
      " 1   text     33000 non-null  object\n",
      "dtypes: object(2)\n",
      "memory usage: 515.8+ KB\n"
     ]
    }
   ],
   "source": [
    "# train info\n",
    "df_train.info()"
   ]
  },
  {
   "cell_type": "code",
   "execution_count": 8,
   "id": "885ba9ad-c5ec-49e2-97ca-138365e764bd",
   "metadata": {},
   "outputs": [
    {
     "name": "stdout",
     "output_type": "stream",
     "text": [
      "<class 'pandas.core.frame.DataFrame'>\n",
      "RangeIndex: 5682 entries, 0 to 5681\n",
      "Data columns (total 2 columns):\n",
      " #   Column  Non-Null Count  Dtype \n",
      "---  ------  --------------  ----- \n",
      " 0   index   5682 non-null   int64 \n",
      " 1   text    5682 non-null   object\n",
      "dtypes: int64(1), object(1)\n",
      "memory usage: 88.9+ KB\n"
     ]
    }
   ],
   "source": [
    "# test info\n",
    "df_test.info()"
   ]
  },
  {
   "cell_type": "code",
   "execution_count": 9,
   "id": "2fb74182",
   "metadata": {},
   "outputs": [
    {
     "data": {
      "text/plain": [
       "lang_id    0\n",
       "text       0\n",
       "dtype: int64"
      ]
     },
     "execution_count": 9,
     "metadata": {},
     "output_type": "execute_result"
    }
   ],
   "source": [
    "# check missing values in train dataset\n",
    "df_train.isnull().sum()"
   ]
  },
  {
   "cell_type": "code",
   "execution_count": 10,
   "id": "6dd6ee8c",
   "metadata": {},
   "outputs": [
    {
     "data": {
      "text/plain": [
       "index    0\n",
       "text     0\n",
       "dtype: int64"
      ]
     },
     "execution_count": 10,
     "metadata": {},
     "output_type": "execute_result"
    }
   ],
   "source": [
    "# check missing values in test dataset\n",
    "df_test.isnull().sum()"
   ]
  },
  {
   "cell_type": "markdown",
   "id": "9bf7352b-e311-435c-bbd6-426b5254f340",
   "metadata": {},
   "source": [
    "<a id=\"three\"></a>\n",
    "## 3.2 Pre-processing"
   ]
  },
  {
   "cell_type": "code",
   "execution_count": 14,
   "id": "bef209e2-a4c0-4556-82c2-f4540c4d2e76",
   "metadata": {},
   "outputs": [],
   "source": [
    "def clean_text(text):\n",
    "    # replace the html characters with \" \"\n",
    "    text=re.sub('<.*?>', ' ', text)\n",
    "    #Removal of numbers\n",
    "    #text = re.sub(r'\\d+', ' ', text)\n",
    "    # will replace newline with space\n",
    "    text = re.sub(\"\\n\",\" \",text)\n",
    "    # will convert to lower case\n",
    "    text = text.lower()\n",
    "    # will split and join the words\n",
    "    text=' '.join(text.split())\n",
    "    return text"
   ]
  },
  {
   "cell_type": "code",
   "execution_count": 35,
   "id": "2ae13d17-ee0d-4290-91d2-7ef6d039f465",
   "metadata": {},
   "outputs": [],
   "source": [
    "# Application of the function to clean the tweets\n",
    "df_train['clean_text'] = df_train['text'].apply(clean_text)\n",
    "df_test['clean_text'] = df_test['text'].apply(clean_text)"
   ]
  },
  {
   "cell_type": "code",
   "execution_count": 36,
   "id": "d3574c7f-0729-4903-9e4b-0a1653a806cd",
   "metadata": {},
   "outputs": [],
   "source": [
    "# Replace '.txt' with 'text file'\n",
    "df_train[\"clean_text\"] = df_train[\"clean_text\"].str.replace(\".txt\", \" text file\")\n",
    "df_test[\"clean_text\"] = df_test[\"clean_text\"].str.replace(\".txt\", \" text file\")"
   ]
  },
  {
   "cell_type": "code",
   "execution_count": 39,
   "id": "fcd49d7c-c399-492b-a5e7-f8b7cf3634af",
   "metadata": {},
   "outputs": [
    {
     "data": {
      "text/html": [
       "<div>\n",
       "<style scoped>\n",
       "    .dataframe tbody tr th:only-of-type {\n",
       "        vertical-align: middle;\n",
       "    }\n",
       "\n",
       "    .dataframe tbody tr th {\n",
       "        vertical-align: top;\n",
       "    }\n",
       "\n",
       "    .dataframe thead th {\n",
       "        text-align: right;\n",
       "    }\n",
       "</style>\n",
       "<table border=\"1\" class=\"dataframe\">\n",
       "  <thead>\n",
       "    <tr style=\"text-align: right;\">\n",
       "      <th></th>\n",
       "      <th>lang_id</th>\n",
       "      <th>text</th>\n",
       "      <th>clean_text</th>\n",
       "    </tr>\n",
       "  </thead>\n",
       "  <tbody>\n",
       "    <tr>\n",
       "      <th>0</th>\n",
       "      <td>xho</td>\n",
       "      <td>umgaqo-siseko wenza amalungiselelo kumaziko ax...</td>\n",
       "      <td>umgaqo-siseko wenza amalungiselelo kumaziko ax...</td>\n",
       "    </tr>\n",
       "    <tr>\n",
       "      <th>1</th>\n",
       "      <td>xho</td>\n",
       "      <td>i-dha iya kuba nobulumko bokubeka umsebenzi na...</td>\n",
       "      <td>i-dha iya kuba nobulumko bokubeka umsebenzi na...</td>\n",
       "    </tr>\n",
       "    <tr>\n",
       "      <th>2</th>\n",
       "      <td>eng</td>\n",
       "      <td>the province of kwazulu-natal department of tr...</td>\n",
       "      <td>the province of kwazulu-natal department of tr...</td>\n",
       "    </tr>\n",
       "    <tr>\n",
       "      <th>3</th>\n",
       "      <td>nso</td>\n",
       "      <td>o netefatša gore o ba file dilo ka moka tše le...</td>\n",
       "      <td>o netefatša gore o ba file dilo ka moka tše le...</td>\n",
       "    </tr>\n",
       "    <tr>\n",
       "      <th>4</th>\n",
       "      <td>ven</td>\n",
       "      <td>khomishini ya ndinganyiso ya mbeu yo ewa maana...</td>\n",
       "      <td>khomishini ya ndinganyiso ya mbeu yo ewa maana...</td>\n",
       "    </tr>\n",
       "    <tr>\n",
       "      <th>5</th>\n",
       "      <td>nso</td>\n",
       "      <td>dinyakišišo tše tša go dirwa gabedi ka ngwaga ...</td>\n",
       "      <td>dinyakišišo tše tša go dirwa gabedi ka ngwaga ...</td>\n",
       "    </tr>\n",
       "    <tr>\n",
       "      <th>6</th>\n",
       "      <td>tsn</td>\n",
       "      <td>kgetse nngwe le nngwe e e sa faposiwang mo tsh...</td>\n",
       "      <td>kgetse nngwe le nngwe e e sa faposiwang mo tsh...</td>\n",
       "    </tr>\n",
       "    <tr>\n",
       "      <th>7</th>\n",
       "      <td>ven</td>\n",
       "      <td>mbadelo dze dza laelwa dzi do kwama mahatulele...</td>\n",
       "      <td>mbadelo dze dza laelwa dzi do kwama mahatulele...</td>\n",
       "    </tr>\n",
       "    <tr>\n",
       "      <th>8</th>\n",
       "      <td>nso</td>\n",
       "      <td>maloko a dikhuduthamaga a ikarabela mongwe le ...</td>\n",
       "      <td>maloko a dikhuduthamaga a ikarabela mongwe le ...</td>\n",
       "    </tr>\n",
       "    <tr>\n",
       "      <th>9</th>\n",
       "      <td>tsn</td>\n",
       "      <td>fa le dirisiwa lebone le tshwanetse go bontsha...</td>\n",
       "      <td>fa le dirisiwa lebone le tshwanetse go bontsha...</td>\n",
       "    </tr>\n",
       "    <tr>\n",
       "      <th>10</th>\n",
       "      <td>nbl</td>\n",
       "      <td>lapho inarha yangeqadi ingenwe ngokungasimthet...</td>\n",
       "      <td>lapho inarha yangeqadi ingenwe ngokungasimthet...</td>\n",
       "    </tr>\n",
       "    <tr>\n",
       "      <th>11</th>\n",
       "      <td>ven</td>\n",
       "      <td>yo dovha hafhu ya khwaṱhisedza uri hu vhe na m...</td>\n",
       "      <td>yo dovha hafhu ya khwaṱhisedza uri hu vhe na m...</td>\n",
       "    </tr>\n",
       "    <tr>\n",
       "      <th>12</th>\n",
       "      <td>zul</td>\n",
       "      <td>i-tip-offs anonymous wusizo locingo oluzimele ...</td>\n",
       "      <td>i-tip-offs anonymous wusizo locingo oluzimele ...</td>\n",
       "    </tr>\n",
       "    <tr>\n",
       "      <th>13</th>\n",
       "      <td>ssw</td>\n",
       "      <td>tekulima lokufaka ekhatsi yonkhe imisebenti ye...</td>\n",
       "      <td>tekulima lokufaka ekhatsi yonkhe imisebenti ye...</td>\n",
       "    </tr>\n",
       "    <tr>\n",
       "      <th>14</th>\n",
       "      <td>zul</td>\n",
       "      <td>noma yiliphi ilungu lombutho wezokuvikela elin...</td>\n",
       "      <td>noma yiliphi ilungu lombutho wezokuvikela elin...</td>\n",
       "    </tr>\n",
       "    <tr>\n",
       "      <th>15</th>\n",
       "      <td>nso</td>\n",
       "      <td>c a fa tumelelo ya go hloma go aga goba go bea...</td>\n",
       "      <td>c a fa tumelelo ya go hloma go aga goba go bea...</td>\n",
       "    </tr>\n",
       "    <tr>\n",
       "      <th>16</th>\n",
       "      <td>tso</td>\n",
       "      <td>migingiriko ya cbnrm hinkwayo yi katsa ku tumb...</td>\n",
       "      <td>migingiriko ya cbnrm hinkwayo yi katsa ku tumb...</td>\n",
       "    </tr>\n",
       "    <tr>\n",
       "      <th>17</th>\n",
       "      <td>zul</td>\n",
       "      <td>amalungu nabangabasebenzi banelungelo lokwenza...</td>\n",
       "      <td>amalungu nabangabasebenzi banelungelo lokwenza...</td>\n",
       "    </tr>\n",
       "    <tr>\n",
       "      <th>18</th>\n",
       "      <td>sot</td>\n",
       "      <td>ka ho mengwa lefapheng la lona diprofeshenale ...</td>\n",
       "      <td>ka ho mengwa lefapheng la lona diprofeshenale ...</td>\n",
       "    </tr>\n",
       "    <tr>\n",
       "      <th>19</th>\n",
       "      <td>nbl</td>\n",
       "      <td>isitifikhethi somtjhado esingakarhunyezwa namk...</td>\n",
       "      <td>isitifikhethi somtjhado esingakarhunyezwa namk...</td>\n",
       "    </tr>\n",
       "  </tbody>\n",
       "</table>\n",
       "</div>"
      ],
      "text/plain": [
       "   lang_id                                               text  \\\n",
       "0      xho  umgaqo-siseko wenza amalungiselelo kumaziko ax...   \n",
       "1      xho  i-dha iya kuba nobulumko bokubeka umsebenzi na...   \n",
       "2      eng  the province of kwazulu-natal department of tr...   \n",
       "3      nso  o netefatša gore o ba file dilo ka moka tše le...   \n",
       "4      ven  khomishini ya ndinganyiso ya mbeu yo ewa maana...   \n",
       "5      nso  dinyakišišo tše tša go dirwa gabedi ka ngwaga ...   \n",
       "6      tsn  kgetse nngwe le nngwe e e sa faposiwang mo tsh...   \n",
       "7      ven  mbadelo dze dza laelwa dzi do kwama mahatulele...   \n",
       "8      nso  maloko a dikhuduthamaga a ikarabela mongwe le ...   \n",
       "9      tsn  fa le dirisiwa lebone le tshwanetse go bontsha...   \n",
       "10     nbl  lapho inarha yangeqadi ingenwe ngokungasimthet...   \n",
       "11     ven  yo dovha hafhu ya khwaṱhisedza uri hu vhe na m...   \n",
       "12     zul  i-tip-offs anonymous wusizo locingo oluzimele ...   \n",
       "13     ssw  tekulima lokufaka ekhatsi yonkhe imisebenti ye...   \n",
       "14     zul  noma yiliphi ilungu lombutho wezokuvikela elin...   \n",
       "15     nso  c a fa tumelelo ya go hloma go aga goba go bea...   \n",
       "16     tso  migingiriko ya cbnrm hinkwayo yi katsa ku tumb...   \n",
       "17     zul  amalungu nabangabasebenzi banelungelo lokwenza...   \n",
       "18     sot  ka ho mengwa lefapheng la lona diprofeshenale ...   \n",
       "19     nbl  isitifikhethi somtjhado esingakarhunyezwa namk...   \n",
       "\n",
       "                                           clean_text  \n",
       "0   umgaqo-siseko wenza amalungiselelo kumaziko ax...  \n",
       "1   i-dha iya kuba nobulumko bokubeka umsebenzi na...  \n",
       "2   the province of kwazulu-natal department of tr...  \n",
       "3   o netefatša gore o ba file dilo ka moka tše le...  \n",
       "4   khomishini ya ndinganyiso ya mbeu yo ewa maana...  \n",
       "5   dinyakišišo tše tša go dirwa gabedi ka ngwaga ...  \n",
       "6   kgetse nngwe le nngwe e e sa faposiwang mo tsh...  \n",
       "7   mbadelo dze dza laelwa dzi do kwama mahatulele...  \n",
       "8   maloko a dikhuduthamaga a ikarabela mongwe le ...  \n",
       "9   fa le dirisiwa lebone le tshwanetse go bontsha...  \n",
       "10  lapho inarha yangeqadi ingenwe ngokungasimthet...  \n",
       "11  yo dovha hafhu ya khwaṱhisedza uri hu vhe na m...  \n",
       "12  i-tip-offs anonymous wusizo locingo oluzimele ...  \n",
       "13  tekulima lokufaka ekhatsi yonkhe imisebenti ye...  \n",
       "14  noma yiliphi ilungu lombutho wezokuvikela elin...  \n",
       "15  c a fa tumelelo ya go hloma go aga goba go bea...  \n",
       "16  migingiriko ya cbnrm hinkwayo yi katsa ku tumb...  \n",
       "17  amalungu nabangabasebenzi banelungelo lokwenza...  \n",
       "18  ka ho mengwa lefapheng la lona diprofeshenale ...  \n",
       "19  isitifikhethi somtjhado esingakarhunyezwa namk...  "
      ]
     },
     "execution_count": 39,
     "metadata": {},
     "output_type": "execute_result"
    }
   ],
   "source": [
    "# Check changes pre-processing has done\n",
    "df_train.head(20)\n"
   ]
  },
  {
   "cell_type": "code",
   "execution_count": 40,
   "id": "2618dc5d-54d7-4a55-af7f-d91395736268",
   "metadata": {},
   "outputs": [
    {
     "data": {
      "text/html": [
       "<div>\n",
       "<style scoped>\n",
       "    .dataframe tbody tr th:only-of-type {\n",
       "        vertical-align: middle;\n",
       "    }\n",
       "\n",
       "    .dataframe tbody tr th {\n",
       "        vertical-align: top;\n",
       "    }\n",
       "\n",
       "    .dataframe thead th {\n",
       "        text-align: right;\n",
       "    }\n",
       "</style>\n",
       "<table border=\"1\" class=\"dataframe\">\n",
       "  <thead>\n",
       "    <tr style=\"text-align: right;\">\n",
       "      <th></th>\n",
       "      <th>index</th>\n",
       "      <th>text</th>\n",
       "      <th>clean_text</th>\n",
       "    </tr>\n",
       "  </thead>\n",
       "  <tbody>\n",
       "    <tr>\n",
       "      <th>0</th>\n",
       "      <td>1</td>\n",
       "      <td>Mmasepala, fa maemo a a kgethegileng a letlele...</td>\n",
       "      <td>mmasepala, fa maemo a a kgethegileng a letlele...</td>\n",
       "    </tr>\n",
       "    <tr>\n",
       "      <th>1</th>\n",
       "      <td>2</td>\n",
       "      <td>Uzakwaziswa ngokufaneleko nakungafuneka eminye...</td>\n",
       "      <td>uzakwaziswa ngokufaneleko nakungafuneka eminye...</td>\n",
       "    </tr>\n",
       "    <tr>\n",
       "      <th>2</th>\n",
       "      <td>3</td>\n",
       "      <td>Tshivhumbeo tshi fana na ngano dza vhathu.</td>\n",
       "      <td>tshivhumbeo tshi fana na ngano dza vhathu.</td>\n",
       "    </tr>\n",
       "    <tr>\n",
       "      <th>3</th>\n",
       "      <td>4</td>\n",
       "      <td>Kube inja nelikati betingevakala kutsi titsini...</td>\n",
       "      <td>kube inja nelikati betingevakala kutsi titsini...</td>\n",
       "    </tr>\n",
       "    <tr>\n",
       "      <th>4</th>\n",
       "      <td>5</td>\n",
       "      <td>Winste op buitelandse valuta.</td>\n",
       "      <td>winste op buitelandse valuta.</td>\n",
       "    </tr>\n",
       "    <tr>\n",
       "      <th>5</th>\n",
       "      <td>6</td>\n",
       "      <td>Ke feela dilense tše hlakilego, tša pono e tee...</td>\n",
       "      <td>ke feela dilense tše hlakilego, tša pono e tee...</td>\n",
       "    </tr>\n",
       "    <tr>\n",
       "      <th>6</th>\n",
       "      <td>7</td>\n",
       "      <td>&lt;fn&gt;(762010101403 AM) 1495 Final Gems Birthing...</td>\n",
       "      <td>(762010101403 am) 1495 final gems birthing opt...</td>\n",
       "    </tr>\n",
       "    <tr>\n",
       "      <th>7</th>\n",
       "      <td>8</td>\n",
       "      <td>Ntjhafatso ya konteraka ya mosebetsi: Etsa bon...</td>\n",
       "      <td>ntjhafatso ya konteraka ya mosebetsi: etsa bon...</td>\n",
       "    </tr>\n",
       "    <tr>\n",
       "      <th>8</th>\n",
       "      <td>9</td>\n",
       "      <td>u-GEMS uhlinzeka ngezinzuzo zemithi yezifo ezi...</td>\n",
       "      <td>u-gems uhlinzeka ngezinzuzo zemithi yezifo ezi...</td>\n",
       "    </tr>\n",
       "    <tr>\n",
       "      <th>9</th>\n",
       "      <td>10</td>\n",
       "      <td>So, on occasion, are statistics misused.</td>\n",
       "      <td>so, on occasion, are statistics misused.</td>\n",
       "    </tr>\n",
       "    <tr>\n",
       "      <th>10</th>\n",
       "      <td>11</td>\n",
       "      <td>Janewari la ngwaga ofe kapa, dikholego tša gag...</td>\n",
       "      <td>janewari la ngwaga ofe kapa, dikholego tša gag...</td>\n",
       "    </tr>\n",
       "    <tr>\n",
       "      <th>11</th>\n",
       "      <td>12</td>\n",
       "      <td>Ntirho wa mfumo : ku aka swikolo swo ringana n...</td>\n",
       "      <td>ntirho wa mfumo : ku aka swikolo swo ringana n...</td>\n",
       "    </tr>\n",
       "    <tr>\n",
       "      <th>12</th>\n",
       "      <td>13</td>\n",
       "      <td>Kl.(3) e emetswe ke k. 13 ya Molaotheo Tlhabol...</td>\n",
       "      <td>kl.(3) e emetswe ke k. 13 ya molaotheo tlhabol...</td>\n",
       "    </tr>\n",
       "    <tr>\n",
       "      <th>13</th>\n",
       "      <td>14</td>\n",
       "      <td>Tshabo le ho se sireletsehe hoo ho ile ha baka...</td>\n",
       "      <td>tshabo le ho se sireletsehe hoo ho ile ha baka...</td>\n",
       "    </tr>\n",
       "    <tr>\n",
       "      <th>14</th>\n",
       "      <td>15</td>\n",
       "      <td>Loko u nga ri na ntiyiso wa leswaku xiphiqo xa...</td>\n",
       "      <td>loko u nga ri na ntiyiso wa leswaku xiphiqo xa...</td>\n",
       "    </tr>\n",
       "    <tr>\n",
       "      <th>15</th>\n",
       "      <td>16</td>\n",
       "      <td>lokuthabatha inxaxheba kwiintshukumo neeprogra...</td>\n",
       "      <td>lokuthabatha inxaxheba kwiintshukumo neeprogra...</td>\n",
       "    </tr>\n",
       "    <tr>\n",
       "      <th>16</th>\n",
       "      <td>17</td>\n",
       "      <td>Icandelwana (2) lithathelwe indawo licandelo 9...</td>\n",
       "      <td>icandelwana (2) lithathelwe indawo licandelo 9...</td>\n",
       "    </tr>\n",
       "    <tr>\n",
       "      <th>17</th>\n",
       "      <td>18</td>\n",
       "      <td>LaMatsebula Yebo Mtilankhatsa, uva kahle. Wona...</td>\n",
       "      <td>lamatsebula yebo mtilankhatsa, uva kahle. wona...</td>\n",
       "    </tr>\n",
       "    <tr>\n",
       "      <th>18</th>\n",
       "      <td>19</td>\n",
       "      <td>Enige persoon wat 'n bepaling van hierdie vero...</td>\n",
       "      <td>enige persoon wat 'n bepaling van hierdie vero...</td>\n",
       "    </tr>\n",
       "    <tr>\n",
       "      <th>19</th>\n",
       "      <td>20</td>\n",
       "      <td>Minisi.a' zwi amba Minisi.</td>\n",
       "      <td>minisi.a' zwi amba minisi.</td>\n",
       "    </tr>\n",
       "  </tbody>\n",
       "</table>\n",
       "</div>"
      ],
      "text/plain": [
       "    index                                               text  \\\n",
       "0       1  Mmasepala, fa maemo a a kgethegileng a letlele...   \n",
       "1       2  Uzakwaziswa ngokufaneleko nakungafuneka eminye...   \n",
       "2       3         Tshivhumbeo tshi fana na ngano dza vhathu.   \n",
       "3       4  Kube inja nelikati betingevakala kutsi titsini...   \n",
       "4       5                      Winste op buitelandse valuta.   \n",
       "5       6  Ke feela dilense tše hlakilego, tša pono e tee...   \n",
       "6       7  <fn>(762010101403 AM) 1495 Final Gems Birthing...   \n",
       "7       8  Ntjhafatso ya konteraka ya mosebetsi: Etsa bon...   \n",
       "8       9  u-GEMS uhlinzeka ngezinzuzo zemithi yezifo ezi...   \n",
       "9      10           So, on occasion, are statistics misused.   \n",
       "10     11  Janewari la ngwaga ofe kapa, dikholego tša gag...   \n",
       "11     12  Ntirho wa mfumo : ku aka swikolo swo ringana n...   \n",
       "12     13  Kl.(3) e emetswe ke k. 13 ya Molaotheo Tlhabol...   \n",
       "13     14  Tshabo le ho se sireletsehe hoo ho ile ha baka...   \n",
       "14     15  Loko u nga ri na ntiyiso wa leswaku xiphiqo xa...   \n",
       "15     16  lokuthabatha inxaxheba kwiintshukumo neeprogra...   \n",
       "16     17  Icandelwana (2) lithathelwe indawo licandelo 9...   \n",
       "17     18  LaMatsebula Yebo Mtilankhatsa, uva kahle. Wona...   \n",
       "18     19  Enige persoon wat 'n bepaling van hierdie vero...   \n",
       "19     20                         Minisi.a' zwi amba Minisi.   \n",
       "\n",
       "                                           clean_text  \n",
       "0   mmasepala, fa maemo a a kgethegileng a letlele...  \n",
       "1   uzakwaziswa ngokufaneleko nakungafuneka eminye...  \n",
       "2          tshivhumbeo tshi fana na ngano dza vhathu.  \n",
       "3   kube inja nelikati betingevakala kutsi titsini...  \n",
       "4                       winste op buitelandse valuta.  \n",
       "5   ke feela dilense tše hlakilego, tša pono e tee...  \n",
       "6   (762010101403 am) 1495 final gems birthing opt...  \n",
       "7   ntjhafatso ya konteraka ya mosebetsi: etsa bon...  \n",
       "8   u-gems uhlinzeka ngezinzuzo zemithi yezifo ezi...  \n",
       "9            so, on occasion, are statistics misused.  \n",
       "10  janewari la ngwaga ofe kapa, dikholego tša gag...  \n",
       "11  ntirho wa mfumo : ku aka swikolo swo ringana n...  \n",
       "12  kl.(3) e emetswe ke k. 13 ya molaotheo tlhabol...  \n",
       "13  tshabo le ho se sireletsehe hoo ho ile ha baka...  \n",
       "14  loko u nga ri na ntiyiso wa leswaku xiphiqo xa...  \n",
       "15  lokuthabatha inxaxheba kwiintshukumo neeprogra...  \n",
       "16  icandelwana (2) lithathelwe indawo licandelo 9...  \n",
       "17  lamatsebula yebo mtilankhatsa, uva kahle. wona...  \n",
       "18  enige persoon wat 'n bepaling van hierdie vero...  \n",
       "19                         minisi.a' zwi amba minisi.  "
      ]
     },
     "execution_count": 40,
     "metadata": {},
     "output_type": "execute_result"
    }
   ],
   "source": [
    "# Check changes pre-processing has done\n",
    "df_test.head(20)"
   ]
  },
  {
   "cell_type": "markdown",
   "id": "42638525-0f15-4289-9a6f-835e14b823ce",
   "metadata": {},
   "source": [
    "<a id=\"three\"></a>\n",
    "## 5 Modelling"
   ]
  },
  {
   "cell_type": "code",
   "execution_count": 51,
   "id": "9593c528-ea66-46c9-ae36-a25a99647c4d",
   "metadata": {},
   "outputs": [],
   "source": [
    "# Import models\n",
    "from sklearn.linear_model import LogisticRegression\n",
    "from sklearn.svm import SVC\n",
    "from sklearn.naive_bayes import MultinomialNB\n",
    "from sklearn.neighbors import KNeighborsClassifier\n",
    "from sklearn.tree import DecisionTreeClassifier\n",
    "from sklearn.ensemble import RandomForestClassifier\n",
    "from sklearn.ensemble import AdaBoostClassifier\n",
    "from sklearn import metrics\n",
    "from sklearn.pipeline import Pipeline\n",
    "from sklearn.decomposition import LatentDirichletAllocation as LDA\n",
    "from sklearn.model_selection import GridSearchCV\n",
    "from sklearn import metrics\n",
    "\n",
    "# Import vectorizer\n",
    "from sklearn.feature_extraction.text import TfidfVectorizer\n",
    "\n",
    "# Assign alias to vectorizer\n",
    "vect = TfidfVectorizer()"
   ]
  },
  {
   "cell_type": "code",
   "execution_count": null,
   "id": "b769813d-f9c3-41c3-a948-b4efaefb8cf2",
   "metadata": {},
   "outputs": [],
   "source": [
    "# Using sparse to train the model using both representations.\n",
    "#import scipy.sparse\n",
    "\n",
    "# Defining the features as well as the label\n",
    "X = df_train['clean_text']\n",
    "y = df_train['lang_id']  "
   ]
  },
  {
   "cell_type": "code",
   "execution_count": 64,
   "id": "6da3f24f-0b43-476f-952d-ba1aca082a67",
   "metadata": {},
   "outputs": [],
   "source": [
    "# Vectorize X-variable\n",
    "X_vec = vect.fit_transform(X)"
   ]
  },
  {
   "cell_type": "code",
   "execution_count": 67,
   "id": "99cb9bde-819a-4f76-8eb5-80ad0e1ba855",
   "metadata": {},
   "outputs": [
    {
     "data": {
      "text/plain": [
       "(33000, 141958)"
      ]
     },
     "execution_count": 67,
     "metadata": {},
     "output_type": "execute_result"
    }
   ],
   "source": [
    "# Check shape of X_vec\n",
    "X_vec.shape"
   ]
  },
  {
   "cell_type": "code",
   "execution_count": 68,
   "id": "de51df85",
   "metadata": {},
   "outputs": [],
   "source": [
    "from sklearn.model_selection import train_test_split\n",
    "\n",
    "# Splitting the previously defined features and label of your dataset\n",
    "X_train, X_test, y_train, y_test = train_test_split(X_vec, y, test_size=0.2, random_state=42)"
   ]
  },
  {
   "cell_type": "code",
   "execution_count": 72,
   "id": "1f72dac6-ef67-4ae6-9dd1-2b4ba6c86bf7",
   "metadata": {},
   "outputs": [
    {
     "data": {
      "text/plain": [
       "MultinomialNB(alpha=0.3)"
      ]
     },
     "execution_count": 72,
     "metadata": {},
     "output_type": "execute_result"
    }
   ],
   "source": [
    "clf = MultinomialNB(alpha=0.3)\n",
    "clf.fit(X_train, y_train)"
   ]
  },
  {
   "cell_type": "code",
   "execution_count": 74,
   "id": "e50e6cb3-16e8-418c-bb84-4a2da76f0905",
   "metadata": {},
   "outputs": [],
   "source": [
    "y_pred = clf.predict(X_test)"
   ]
  },
  {
   "cell_type": "code",
   "execution_count": 75,
   "id": "9eefece2-3be9-46a5-a63c-abdc9708a130",
   "metadata": {},
   "outputs": [
    {
     "name": "stdout",
     "output_type": "stream",
     "text": [
      "              precision    recall  f1-score   support\n",
      "\n",
      "         afr       1.00      1.00      1.00       583\n",
      "         eng       1.00      1.00      1.00       615\n",
      "         nbl       1.00      1.00      1.00       583\n",
      "         nso       1.00      1.00      1.00       625\n",
      "         sot       1.00      1.00      1.00       618\n",
      "         ssw       1.00      1.00      1.00       584\n",
      "         tsn       1.00      1.00      1.00       598\n",
      "         tso       1.00      1.00      1.00       561\n",
      "         ven       1.00      1.00      1.00       634\n",
      "         xho       1.00      1.00      1.00       609\n",
      "         zul       1.00      1.00      1.00       590\n",
      "\n",
      "    accuracy                           1.00      6600\n",
      "   macro avg       1.00      1.00      1.00      6600\n",
      "weighted avg       1.00      1.00      1.00      6600\n",
      "\n",
      "F1_score:  0.9992424278\n"
     ]
    }
   ],
   "source": [
    "print(metrics.classification_report(y_test, y_pred))\n",
    "print('F1_score: ',round(metrics.f1_score(y_test,y_pred, average = 'weighted'),10))"
   ]
  },
  {
   "cell_type": "markdown",
   "id": "551a34e6-39c2-4fac-a51e-7a8c08e05971",
   "metadata": {},
   "source": [
    "<a id=\"three\"></a>\n",
    "## 5.2 Hyper-Parameter Tuning"
   ]
  },
  {
   "cell_type": "code",
   "execution_count": 80,
   "id": "8193d0be-925e-4867-b907-5d6faa11f5dc",
   "metadata": {},
   "outputs": [],
   "source": [
    "# Refine test_train split\n",
    "X_train, X_test, y_train, y_test = train_test_split(X_vec, y, test_size=0.02, random_state=42)"
   ]
  },
  {
   "cell_type": "code",
   "execution_count": 92,
   "id": "7243d6da-58c2-417c-8399-77c9203bd4dc",
   "metadata": {},
   "outputs": [],
   "source": [
    "# Create list of alpha values\n",
    "alphs = [0.1, 0.2, 0.5, 1, 2, 5, 10]"
   ]
  },
  {
   "cell_type": "code",
   "execution_count": 93,
   "id": "e52e702c-960f-441c-b1be-a01f26e7e6cc",
   "metadata": {},
   "outputs": [],
   "source": [
    "# Creat dictionnary for grid search\n",
    "param_grid = {'alpha': alphs}"
   ]
  },
  {
   "cell_type": "code",
   "execution_count": 94,
   "id": "f1b599ef-4033-40f6-b1f6-4fdaab3f962e",
   "metadata": {},
   "outputs": [],
   "source": [
    "MNB = MultinomialNB()"
   ]
  },
  {
   "cell_type": "code",
   "execution_count": 95,
   "id": "15ae4892-6e53-4791-a35f-228e38d23710",
   "metadata": {},
   "outputs": [],
   "source": [
    "grid_NB = GridSearchCV(MNB, param_grid, scoring='f1')"
   ]
  },
  {
   "cell_type": "code",
   "execution_count": 96,
   "id": "1a51843a-2ff1-452c-a231-b20afe6aa77a",
   "metadata": {},
   "outputs": [
    {
     "data": {
      "text/plain": [
       "GridSearchCV(estimator=MultinomialNB(),\n",
       "             param_grid={'alpha': [0.1, 0.2, 0.5, 1, 2, 5, 10]}, scoring='f1')"
      ]
     },
     "execution_count": 96,
     "metadata": {},
     "output_type": "execute_result"
    }
   ],
   "source": [
    "grid_NB.fit(X_train, y_train)"
   ]
  },
  {
   "cell_type": "code",
   "execution_count": 97,
   "id": "5d7b7975-b205-48d8-8044-fb4d9fc6d641",
   "metadata": {},
   "outputs": [
    {
     "data": {
      "text/plain": [
       "{'alpha': 0.1}"
      ]
     },
     "execution_count": 97,
     "metadata": {},
     "output_type": "execute_result"
    }
   ],
   "source": [
    "grid_NB.best_params_"
   ]
  },
  {
   "cell_type": "code",
   "execution_count": 98,
   "id": "16eaf79b-81ee-44a1-a27d-40a1b51a168a",
   "metadata": {},
   "outputs": [],
   "source": [
    "y_pred_hyp = grid_NB.predict(X_test)"
   ]
  },
  {
   "cell_type": "code",
   "execution_count": 100,
   "id": "8fa47c56-928a-45fe-b554-de4fd7c47e66",
   "metadata": {},
   "outputs": [
    {
     "name": "stdout",
     "output_type": "stream",
     "text": [
      "              precision    recall  f1-score   support\n",
      "\n",
      "         afr       0.98      1.00      0.99        48\n",
      "         eng       1.00      1.00      1.00        56\n",
      "         nbl       1.00      1.00      1.00        64\n",
      "         nso       1.00      0.98      0.99        64\n",
      "         sot       0.98      1.00      0.99        55\n",
      "         ssw       1.00      1.00      1.00        54\n",
      "         tsn       1.00      0.99      0.99        72\n",
      "         tso       1.00      1.00      1.00        57\n",
      "         ven       1.00      1.00      1.00        64\n",
      "         xho       1.00      1.00      1.00        58\n",
      "         zul       1.00      1.00      1.00        68\n",
      "\n",
      "    accuracy                           1.00       660\n",
      "   macro avg       1.00      1.00      1.00       660\n",
      "weighted avg       1.00      1.00      1.00       660\n",
      "\n",
      "F1_score:  0.9969730691\n"
     ]
    }
   ],
   "source": [
    "print(metrics.classification_report(y_test, y_pred_hyp))\n",
    "print('F1_score: ',round(metrics.f1_score(y_test,y_pred_hyp, average = 'weighted'),10))"
   ]
  },
  {
   "cell_type": "markdown",
   "id": "b5e43598-d9f9-4f65-bc45-8cb87eab5131",
   "metadata": {},
   "source": [
    "<a id=\"three\"></a>\n",
    "## 6 Submission to Kaggle"
   ]
  },
  {
   "cell_type": "code",
   "execution_count": 104,
   "id": "5c37f610-f76b-4831-bff5-4f7a9d548dee",
   "metadata": {},
   "outputs": [],
   "source": [
    "X_Kaggle = df_test['clean_text']"
   ]
  },
  {
   "cell_type": "code",
   "execution_count": 105,
   "id": "298ca268-de4f-4247-b796-959637c8beb9",
   "metadata": {},
   "outputs": [],
   "source": [
    "kaggle_pred = grid_NB.predict(vect.transform(X_Kaggle))"
   ]
  },
  {
   "cell_type": "code",
   "execution_count": 106,
   "id": "facf2c2e-1e74-4446-a069-57cdb01e607f",
   "metadata": {},
   "outputs": [
    {
     "data": {
      "text/html": [
       "<div>\n",
       "<style scoped>\n",
       "    .dataframe tbody tr th:only-of-type {\n",
       "        vertical-align: middle;\n",
       "    }\n",
       "\n",
       "    .dataframe tbody tr th {\n",
       "        vertical-align: top;\n",
       "    }\n",
       "\n",
       "    .dataframe thead th {\n",
       "        text-align: right;\n",
       "    }\n",
       "</style>\n",
       "<table border=\"1\" class=\"dataframe\">\n",
       "  <thead>\n",
       "    <tr style=\"text-align: right;\">\n",
       "      <th></th>\n",
       "      <th>index</th>\n",
       "      <th>lang_id</th>\n",
       "    </tr>\n",
       "  </thead>\n",
       "  <tbody>\n",
       "    <tr>\n",
       "      <th>0</th>\n",
       "      <td>1</td>\n",
       "      <td>tsn</td>\n",
       "    </tr>\n",
       "    <tr>\n",
       "      <th>1</th>\n",
       "      <td>2</td>\n",
       "      <td>nbl</td>\n",
       "    </tr>\n",
       "    <tr>\n",
       "      <th>2</th>\n",
       "      <td>3</td>\n",
       "      <td>ven</td>\n",
       "    </tr>\n",
       "    <tr>\n",
       "      <th>3</th>\n",
       "      <td>4</td>\n",
       "      <td>ssw</td>\n",
       "    </tr>\n",
       "    <tr>\n",
       "      <th>4</th>\n",
       "      <td>5</td>\n",
       "      <td>afr</td>\n",
       "    </tr>\n",
       "  </tbody>\n",
       "</table>\n",
       "</div>"
      ],
      "text/plain": [
       "   index lang_id\n",
       "0      1     tsn\n",
       "1      2     nbl\n",
       "2      3     ven\n",
       "3      4     ssw\n",
       "4      5     afr"
      ]
     },
     "execution_count": 106,
     "metadata": {},
     "output_type": "execute_result"
    }
   ],
   "source": [
    "pred_df = pd.DataFrame(data=df_test['index'], columns=['index'])\n",
    "pred_df.insert(1, 'lang_id', kaggle_pred, allow_duplicates=False)\n",
    "\n",
    "pred_df.head()"
   ]
  },
  {
   "cell_type": "code",
   "execution_count": 107,
   "id": "3cbc8e4a-117a-4841-b4dc-77b2aa8e1959",
   "metadata": {},
   "outputs": [],
   "source": [
    "pred_df.to_csv(path_or_buf='Gabe_MultiNB.csv', index=False)"
   ]
  }
 ],
 "metadata": {
  "kernelspec": {
   "display_name": "Python 3",
   "language": "python",
   "name": "python3"
  },
  "language_info": {
   "codemirror_mode": {
    "name": "ipython",
    "version": 3
   },
   "file_extension": ".py",
   "mimetype": "text/x-python",
   "name": "python",
   "nbconvert_exporter": "python",
   "pygments_lexer": "ipython3",
   "version": "3.8.8"
  },
  "latex_envs": {
   "LaTeX_envs_menu_present": true,
   "autoclose": false,
   "autocomplete": true,
   "bibliofile": "biblio.bib",
   "cite_by": "apalike",
   "current_citInitial": 1,
   "eqLabelWithNumbers": true,
   "eqNumInitial": 1,
   "hotkeys": {
    "equation": "Ctrl-E",
    "itemize": "Ctrl-I"
   },
   "labels_anchors": false,
   "latex_user_defs": false,
   "report_style_numbering": false,
   "user_envs_cfg": false
  },
  "toc": {
   "base_numbering": 1,
   "nav_menu": {},
   "number_sections": true,
   "sideBar": true,
   "skip_h1_title": false,
   "title_cell": "Table of Contents",
   "title_sidebar": "Contents",
   "toc_cell": false,
   "toc_position": {},
   "toc_section_display": true,
   "toc_window_display": false
  },
  "varInspector": {
   "cols": {
    "lenName": 16,
    "lenType": 16,
    "lenVar": 40
   },
   "kernels_config": {
    "python": {
     "delete_cmd_postfix": "",
     "delete_cmd_prefix": "del ",
     "library": "var_list.py",
     "varRefreshCmd": "print(var_dic_list())"
    },
    "r": {
     "delete_cmd_postfix": ") ",
     "delete_cmd_prefix": "rm(",
     "library": "var_list.r",
     "varRefreshCmd": "cat(var_dic_list()) "
    }
   },
   "types_to_exclude": [
    "module",
    "function",
    "builtin_function_or_method",
    "instance",
    "_Feature"
   ],
   "window_display": false
  }
 },
 "nbformat": 4,
 "nbformat_minor": 5
}
